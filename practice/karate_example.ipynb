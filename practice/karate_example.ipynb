{
 "cells": [
  {
   "cell_type": "markdown",
   "metadata": {},
   "source": [
    "### So, let's begin our graph learning trip from the easy sample (Kalate club dataset)"
   ]
  },
  {
   "cell_type": "markdown",
   "metadata": {},
   "source": [
    "### First, get and deal the data to unified format \n",
    "\n",
    "1. import library \n",
    "\n",
    "2. deal to the standard format\n",
    "\n",
    "<34x34 sparse matrix of type '<class 'numpy.intc'>'\n",
    "\twith 156 stored elements in COOrdinate format>"
   ]
  },
  {
   "cell_type": "code",
   "execution_count": 69,
   "metadata": {},
   "outputs": [],
   "source": [
    "import torch\n",
    "import torch_geometric\n",
    "import pygod\n",
    "import networkx as nx\n",
    "import numpy as np\n",
    "from sklearn.preprocessing import StandardScaler\n",
    "\n",
    "G = nx.karate_club_graph()\n",
    "labels = np.asarray([G.nodes[i]['club'] != 'Mr. Hi' for i in G.nodes]).astype(np.int64)\n",
    "adj = nx.to_scipy_sparse_matrix(G).tocoo()\n",
    "row = torch.from_numpy(adj.row.astype(np.int64)).to(torch.int64)\n",
    "col = torch.from_numpy(adj.col.astype(np.int64)).to(torch.int64)\n",
    "edge_index = torch.stack([row,col],dim=0)\n",
    "\n",
    "embeddings = np.array(list(dict(G.degree()).values()))\n",
    "scale = StandardScaler()\n",
    "embeddings = scale.fit_transform(embeddings.reshape(-1,1))"
   ]
  },
  {
   "cell_type": "markdown",
   "metadata": {},
   "source": [
    "### Second,\n",
    "\n",
    "1. using the *InMemoryDataset* limiting the random data to a standard dataset\n",
    "\n"
   ]
  },
  {
   "cell_type": "code",
   "execution_count": 70,
   "metadata": {},
   "outputs": [],
   "source": [
    "import torch\n",
    "import pandas as pd\n",
    "from torch_geometric.data import InMemoryDataset, Data\n",
    "from sklearn.model_selection import train_test_split\n",
    "import torch_geometric.transforms as T\n",
    "\n",
    "# custom dataset\n",
    "class KarateDataset(InMemoryDataset):\n",
    "    def __init__(self, transform=None):\n",
    "        super(KarateDataset, self).__init__('.', transform, None, None)\n",
    "\n",
    "        data = Data(edge_index=edge_index)\n",
    "        \n",
    "        data.num_nodes = G.number_of_nodes()\n",
    "        \n",
    "        # embedding \n",
    "        data.x = torch.from_numpy(embeddings).type(torch.float32)\n",
    "        \n",
    "        # labels\n",
    "        y = torch.from_numpy(labels).type(torch.long)\n",
    "        data.y = y.clone().detach()\n",
    "        \n",
    "        data.num_classes = 2\n",
    "\n",
    "        # splitting the data into train, validation and test\n",
    "        X_train, X_test, y_train, y_test = train_test_split(pd.Series(list(G.nodes())), \n",
    "                                                            pd.Series(labels),\n",
    "                                                            test_size=0.30, \n",
    "                                                            random_state=42)\n",
    "        \n",
    "        n_nodes = G.number_of_nodes()\n",
    "        \n",
    "        # create train and test masks for data\n",
    "        train_mask = torch.zeros(n_nodes, dtype=torch.bool)\n",
    "        test_mask = torch.zeros(n_nodes, dtype=torch.bool)\n",
    "        train_mask[X_train.index] = True\n",
    "        test_mask[X_test.index] = True\n",
    "        data['train_mask'] = train_mask\n",
    "        data['test_mask'] = test_mask\n",
    "\n",
    "        self.data, self.slices = self.collate([data])\n",
    "\n",
    "    def _download(self):\n",
    "        return\n",
    "\n",
    "    def _process(self):\n",
    "        return\n",
    "\n",
    "    def __repr__(self):\n",
    "        return '{}()'.format(self.__class__.__name__)\n",
    "    \n",
    "dataset = KarateDataset()\n",
    "data = dataset[0]\n"
   ]
  },
  {
   "cell_type": "markdown",
   "metadata": {},
   "source": [
    "### Third, It's time showing the power of standard dataset.\n",
    "\n",
    "1. build GNN network\n"
   ]
  },
  {
   "cell_type": "code",
   "execution_count": 131,
   "metadata": {},
   "outputs": [
    {
     "data": {
      "text/plain": [
       "Net(\n",
       "  (conv1): GCNConv(1, 16)\n",
       "  (conv2): GCNConv(16, 2)\n",
       ")"
      ]
     },
     "execution_count": 131,
     "metadata": {},
     "output_type": "execute_result"
    }
   ],
   "source": [
    "import torch.nn as nn\n",
    "import torch.nn.functional as F\n",
    "from torch_geometric.nn import GCNConv\n",
    "\n",
    "class Net(torch.nn.Module):\n",
    "    def __init__(self,input_dim = data.num_features,output_dim = data.num_classes):\n",
    "        super(Net,self).__init__()\n",
    "        # Two layers receptive field\n",
    "        self.conv1 = GCNConv(input_dim,16)\n",
    "        self.conv2 = GCNConv(16,output_dim)\n",
    "    \n",
    "    def forward(self,data):\n",
    "        x, edge_index= data.x, data.edge_index\n",
    "        x = F.leaky_relu(self.conv1(x, edge_index))\n",
    "        x = F.dropout(x)\n",
    "        x = self.conv2(x, edge_index)\n",
    "        return F.log_softmax(x,dim=1)\n",
    "\n",
    "model = Net()\n",
    "model.to(device=\"cuda\" if torch.cuda.is_available() else \"cpu\")\n",
    "model.train()"
   ]
  },
  {
   "cell_type": "code",
   "execution_count": 132,
   "metadata": {},
   "outputs": [
    {
     "name": "stderr",
     "output_type": "stream",
     "text": [
      "100%|██████████| 2000/2000 [00:30<00:00, 65.65it/s]\n"
     ]
    }
   ],
   "source": [
    "from tqdm import tqdm\n",
    "torch.manual_seed(42)\n",
    "\n",
    "device = \"cuda\" if torch.cuda.is_available() else \"cpu\"\n",
    "lr = 1e-2\n",
    "optimizer = torch.optim.Adam(model.parameters(),lr=lr)\n",
    "epochs = 2000\n",
    "def train():\n",
    "    for i in tqdm(range(epochs)):\n",
    "        optimizer.zero_grad()\n",
    "        output = model(data.to(device=device))\n",
    "        F.nll_loss(model(data)[data.train_mask],data.y[data.train_mask]).backward()\n",
    "        optimizer.step()\n",
    "\n",
    "\n",
    "@torch.no_grad()\n",
    "def test():\n",
    "    model.eval()\n",
    "    logits = model(data.to(device))\n",
    "    mask1 = data[\"train_mask\"]\n",
    "    pred1 = logits[mask1].max(1)[1]\n",
    "    # print (f\"logits[mask1].max(1):{logits[mask1].max(1)}\")\n",
    "    # max(1) mean to find max in dimension one. And have the max value and the max index \n",
    "    acc1 = pred1.eq(data.y[mask1]).sum().item() / mask1.sum().item()\n",
    "    print (f\"Train_mask accuracy: {pred1.eq(data.y[mask1]).sum().item()}/{mask1.sum().item()} || {round(acc1,2)}\")\n",
    "    \n",
    "    mask2 = data[\"test_mask\"]\n",
    "    pred2 = logits[mask2].max(1)[1]\n",
    "    # print (f\"logits[mask2].max(1):{logits[mask1].max(1)}\")\n",
    "    acc2 = pred2.eq(data.y[mask2]).sum().item() / mask2.sum().item()\n",
    "    print (f\"Test_mask accuracy: {pred2.eq(data.y[mask2]).sum().item()}/{mask2.sum().item()} || {round(acc2,2)}\")\n",
    "\n",
    "train()"
   ]
  },
  {
   "cell_type": "code",
   "execution_count": 133,
   "metadata": {},
   "outputs": [
    {
     "name": "stdout",
     "output_type": "stream",
     "text": [
      "Train_mask accuracy: 21/23 || 0.91\n",
      "Train_mask accuracy: 8/11 || 0.73\n"
     ]
    }
   ],
   "source": [
    "test()"
   ]
  },
  {
   "cell_type": "markdown",
   "metadata": {},
   "source": [
    "Issues in the experiment: all variables are just name, cite. Just like below."
   ]
  },
  {
   "cell_type": "code",
   "execution_count": 81,
   "metadata": {},
   "outputs": [
    {
     "name": "stdout",
     "output_type": "stream",
     "text": [
      "2682695633200\n",
      "2682695474160\n",
      "2682695633200\n",
      "2682695517552\n"
     ]
    }
   ],
   "source": [
    "x = \"12\"\n",
    "print (id(x))\n",
    "x = \"23\"\n",
    "print (id(x))\n",
    "\n",
    "x = \"12\"\n",
    "print (id(x))\n",
    "x = \"23\" + x\n",
    "print (id(x))"
   ]
  },
  {
   "cell_type": "code",
   "execution_count": null,
   "metadata": {},
   "outputs": [],
   "source": []
  }
 ],
 "metadata": {
  "interpreter": {
   "hash": "579282893146967bc5d17141c601e8a8b8ad4a0a2a5a6fe1c87b1000077400d7"
  },
  "kernelspec": {
   "display_name": "Python 3.7.4 ('base')",
   "language": "python",
   "name": "python3"
  },
  "language_info": {
   "codemirror_mode": {
    "name": "ipython",
    "version": 3
   },
   "file_extension": ".py",
   "mimetype": "text/x-python",
   "name": "python",
   "nbconvert_exporter": "python",
   "pygments_lexer": "ipython3",
   "version": "3.7.12"
  },
  "orig_nbformat": 4
 },
 "nbformat": 4,
 "nbformat_minor": 2
}
